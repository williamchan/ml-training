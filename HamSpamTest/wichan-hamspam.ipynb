{
 "cells": [
  {
   "cell_type": "code",
   "execution_count": 11,
   "metadata": {
    "collapsed": false
   },
   "outputs": [
    {
     "name": "stdout",
     "output_type": "stream",
     "text": [
      "The autoreload extension is already loaded. To reload it, use:\n",
      "  %reload_ext autoreload\n"
     ]
    }
   ],
   "source": [
    "%load_ext autoreload\n",
    "%autoreload 2\n",
    "%matplotlib inline\n",
    "\n",
    "import math\n",
    "import re\n",
    "import pandas as pd\n",
    "import seaborn as sn\n",
    "from util import extract_word, get_words, process_files, predict, summary, get_truths"
   ]
  },
  {
   "cell_type": "code",
   "execution_count": 2,
   "metadata": {
    "collapsed": false
   },
   "outputs": [],
   "source": [
    "ham_dir = 'ham'\n",
    "ham_filelist = ham_dir + '/hamFileList.txt'\n",
    "spam_dir = 'spam'\n",
    "spam_filelist = spam_dir + '/spamFileList.txt'\n",
    "test_dir = 'test'\n",
    "truth_file = test_dir + '/truth'\n",
    "\n",
    "ham_files = []\n",
    "spam_files = []\n",
    "test_files = [(test_dir + '/' + str(x)) for x in range(1, 101)]\n",
    "\n",
    "with open(ham_filelist, 'r') as f:\n",
    "  for line in f:\n",
    "    ham_files.append(ham_dir + '/' + str(int(line)))\n",
    "\n",
    "with open(spam_filelist, 'r') as f:\n",
    "  for line in f:\n",
    "    spam_files.append(spam_dir + '/' + str(int(line)))"
   ]
  },
  {
   "cell_type": "code",
   "execution_count": 3,
   "metadata": {
    "collapsed": false
   },
   "outputs": [
    {
     "name": "stdout",
     "output_type": "stream",
     "text": [
      "jcf\n",
      "None\n",
      "None\n"
     ]
    }
   ],
   "source": [
    "print extract_word(\"email_body_term(1, 'jcf', 98).\")\n",
    "print extract_word(\"email_from(1, 'jforster', 'psy1.psych.arizona.edu').\")\n",
    "print extract_word(\"\")"
   ]
  },
  {
   "cell_type": "code",
   "execution_count": 4,
   "metadata": {
    "collapsed": false
   },
   "outputs": [],
   "source": [
    "ham_map, total_ham_words = process_files(ham_files)\n",
    "spam_map, total_spam_words = process_files(spam_files)"
   ]
  },
  {
   "cell_type": "code",
   "execution_count": 5,
   "metadata": {
    "collapsed": false
   },
   "outputs": [
    {
     "name": "stdout",
     "output_type": "stream",
     "text": [
      "82184\n",
      "79088\n"
     ]
    }
   ],
   "source": [
    "print total_ham_words\n",
    "print total_spam_words"
   ]
  },
  {
   "cell_type": "code",
   "execution_count": 12,
   "metadata": {
    "collapsed": false
   },
   "outputs": [],
   "source": [
    "truths = get_truths(truth_file)\n",
    "predictions = predict(test_files, ham_map, total_ham_words, spam_map, total_spam_words, 1, 200000)"
   ]
  },
  {
   "cell_type": "code",
   "execution_count": 13,
   "metadata": {
    "collapsed": false
   },
   "outputs": [
    {
     "name": "stdout",
     "output_type": "stream",
     "text": [
      "True positive = 49\n",
      "False positive = 0\n",
      "False negative = 1\n",
      "True negative = 50\n",
      "Precision = 1.0\n",
      "Recall = 0.98\n",
      "F-score = 0.989898989899\n",
      "Accuracy = 0.99\n"
     ]
    }
   ],
   "source": [
    "tp, tn, fp, fn, precision, recall, fscore, accuracy = summary(predictions, truths)\n",
    "\n",
    "print \"True positive = \" + str(tp)\n",
    "print \"False positive = \" + str(fp)\n",
    "print \"False negative = \" + str(fn)\n",
    "print \"True negative = \" + str(tn)\n",
    "print \"Precision = \" + str(precision)\n",
    "print \"Recall = \" + str(recall)\n",
    "print \"F-score = \" + str(fscore)\n",
    "print \"Accuracy = \" + str(accuracy)"
   ]
  },
  {
   "cell_type": "code",
   "execution_count": 9,
   "metadata": {
    "collapsed": false,
    "scrolled": true
   },
   "outputs": [
    {
     "data": {
      "text/plain": [
       "<matplotlib.axes._subplots.AxesSubplot at 0x1179c35d0>"
      ]
     },
     "execution_count": 9,
     "metadata": {},
     "output_type": "execute_result"
    },
    {
     "data": {
      "image/png": "[encoded data removed]",
      "text/plain": [
       "<matplotlib.figure.Figure at 0x1179a8d90>"
      ]
     },
     "metadata": {},
     "output_type": "display_data"
    }
   ],
   "source": [
    "matrix = [[tp,fp], \n",
    "          [fn, tn]]\n",
    "df_cm = pd.DataFrame(matrix, [1, 0], [1, 0])\n",
    "sn.heatmap(df_cm, annot=True, cbar=False)"
   ]
  },
  {
   "cell_type": "markdown",
   "metadata": {},
   "source": [
    "**Why class imbalance can make accuracy a misleading metric...**\n",
    "\n",
    "Accuracy can be skewed if TP (true positive) or TN (true negative) is overly represented. For example, if \"has cancer\" is the positive label and \"no cancer\" is the negative label, I can run around telling everyone \"no cancer\" and I will have a high accuracy because I will have a high count of TN, but I will 100% miss my opportunities to correctly label \"has cancer\" for those true cases.\n"
   ]
  },
  {
   "cell_type": "code",
   "execution_count": null,
   "metadata": {
    "collapsed": false
   },
   "outputs": [],
   "source": []
  }
 ],
 "metadata": {
  "kernelspec": {
   "display_name": "Python 2",
   "language": "python",
   "name": "python2"
  },
  "language_info": {
   "codemirror_mode": {
    "name": "ipython",
    "version": 2
   },
   "file_extension": ".py",
   "mimetype": "text/x-python",
   "name": "python",
   "nbconvert_exporter": "python",
   "pygments_lexer": "ipython2",
   "version": "2.7.13"
  }
 },
 "nbformat": 4,
 "nbformat_minor": 0
}
